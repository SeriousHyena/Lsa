{
 "cells": [
  {
   "cell_type": "markdown",
   "metadata": {},
   "source": [
    "# Three different ways to modify an entry in a string of characters. We only use Python and refrain from using Pandas."
   ]
  },
  {
   "cell_type": "markdown",
   "metadata": {},
   "source": [
    "# Method # 1 - Iterate through a 'hard' list "
   ]
  },
  {
   "cell_type": "code",
   "execution_count": 1,
   "metadata": {},
   "outputs": [
    {
     "name": "stdout",
     "output_type": "stream",
     "text": [
      "Current name value is:  Leesa\n",
      "Revised name value is:  ['Leesa loves Python!']\n"
     ]
    }
   ],
   "source": [
    "names = ['ere', 'tet', 'yey', 'yy', 'rtrt', 'rtr', 'trt', 'asgf', 'dfh', 'gsjg', 'Leesa',\n",
    "         'dsfsds', 'ewte', 'fj']\n",
    "\n",
    "count = 0 # initialize the counter with a zero value then increment for an index value\n",
    "replacement_value = ['Leesa loves Python!']\n",
    "\n",
    "print('Current name value is: ', names[10]) # use a slice to print only the revised value\n",
    "\n",
    "for name in names:\n",
    "    if name != 'Leesa':\n",
    "        count += 1\n",
    "    else:\n",
    "        if name == 'Leesa':\n",
    "            names[count] = replacement_value\n",
    "            print('Revised name value is: ', names[count])\n",
    "        break      "
   ]
  },
  {
   "cell_type": "markdown",
   "metadata": {},
   "source": [
    "# Method # 2 - Use str.replace() change the current character value to the new value."
   ]
  },
  {
   "cell_type": "code",
   "execution_count": 2,
   "metadata": {},
   "outputs": [
    {
     "name": "stdout",
     "output_type": "stream",
     "text": [
      "wewe erer tyt fgfg ghgh cvcv Leesa dfdf fghth 344 464 \n",
      "wewe erer tyt fgfg ghgh cvcv Leesa loves Python! dfdf fghth 344 464 \n"
     ]
    }
   ],
   "source": [
    "my_string = 'wewe erer tyt fgfg ghgh cvcv Leesa dfdf fghth 344 464 '\n",
    "print(my_string)\n",
    "\n",
    "my_string = my_string.replace('Leesa', 'Leesa loves Python!') \n",
    "print(my_string)"
   ]
  },
  {
   "cell_type": "markdown",
   "metadata": {},
   "source": [
    "# Method # 3 - Convert string to a list then iterate through the list and find-and-replace a value with another. Use str.split() to create a new list from a string of characters then loop through to find and replace as we did above."
   ]
  },
  {
   "cell_type": "code",
   "execution_count": 3,
   "metadata": {},
   "outputs": [
    {
     "name": "stdout",
     "output_type": "stream",
     "text": [
      "The un-revised string is:  ['rtrt', 'rtrt', 'rtt', 'fjf', 'fh', 'kjl', 'Leesa', 'sdg', '678696', 'sdfsd'] We will replace \"Leesa\"\n",
      "Revised string value is:  Leesa loves Python!\n"
     ]
    }
   ],
   "source": [
    "a_string = 'rtrt rtrt rtt fjf fh kjl Leesa sdg 678696 sdfsd' # hypothetical text to revise\n",
    "new_string = a_string.split(' ') # split the string at the space char and create a new list\n",
    "\n",
    "print('The un-revised string is: ', new_string, 'We will replace \"Leesa\"') # verify the previous string-state\n",
    "\n",
    "replace_char = 'Leesa loves Python!' # the revision we want to make to the string of text\n",
    "count2 = 0   # use a counter as an index into the character string we want to change\n",
    "\n",
    "for char in new_string: # iterate through the string to finf the entry we want to change\n",
    "    if char != 'Leesa': # I use non-parity in order to increment the counter for index value\n",
    "        count2 += 1 # increment the counter\n",
    "\n",
    "# this is where we make the change to the chracter string \n",
    "    else:\n",
    "        if char == 'Leesa': # evaluate to True in order to make the change to the string\n",
    "            new_string[count2] = replace_char # this is the new value to replace with           \n",
    "        print('Revised string value is: ', new_string[count2]) # verify the result\n",
    "               \n",
    "        \n",
    "        "
   ]
  },
  {
   "cell_type": "code",
   "execution_count": 4,
   "metadata": {},
   "outputs": [
    {
     "name": "stdout",
     "output_type": "stream",
     "text": [
      "Revised string value is:  ['rtrt', 'rtrt', 'rtt', 'fjf', 'fh', 'kjl', 'Leesa loves Python!', 'sdg', '678696', 'sdfsd']\n"
     ]
    }
   ],
   "source": [
    "print('Revised string value is: ', new_string) #verify that we have updated the new list"
   ]
  },
  {
   "cell_type": "markdown",
   "metadata": {},
   "source": [
    "# Opening a file in Python\n",
    "\n",
    "### https://docs.python.org/3/tutorial/inputoutput.html#reading-and-writing-files"
   ]
  },
  {
   "cell_type": "markdown",
   "metadata": {},
   "source": [
    "## This code opens and reads the file into a list so we can parse the row and column data"
   ]
  },
  {
   "cell_type": "code",
   "execution_count": 97,
   "metadata": {},
   "outputs": [],
   "source": [
    "# import the reader function from the csv module\n",
    "from csv import reader\n",
    "\n",
    "# use the python built-in function open()\n",
    "# to open the children.csv file\n",
    "opened_file = open(r'C:\\Users\\emack\\Documents\\Lsa\\Lsa\\read_this.csv')\n",
    "\n",
    "# use csv.reader() to parse the data from\n",
    "# the opened file\n",
    "read_file = reader(opened_file)\n",
    "\n",
    "# use list() to convert the read file\n",
    "# into a list of lists format\n",
    "children = list(read_file)\n",
    "\n",
    "# remove the first row of the data, which\n",
    "# contains the column names\n",
    "children = children[1:]"
   ]
  },
  {
   "cell_type": "markdown",
   "metadata": {},
   "source": [
    "# This iterates through the rows and columns "
   ]
  },
  {
   "cell_type": "code",
   "execution_count": 100,
   "metadata": {},
   "outputs": [
    {
     "name": "stdout",
     "output_type": "stream",
     "text": [
      "Ernest\n",
      "Mack\n",
      "59\n",
      "Jack\n",
      "Jones\n",
      "23\n",
      "Phil\n",
      "Phillips\n",
      "34\n"
     ]
    }
   ],
   "source": [
    "for row in children:\n",
    "    first = row[0]\n",
    "    print(first)\n",
    "    \n",
    "    last = row[1]\n",
    "    print(last)\n",
    "    \n",
    "    age = row[2]\n",
    "    print(age)\n",
    "    \n",
    "    \n",
    "   "
   ]
  },
  {
   "cell_type": "code",
   "execution_count": null,
   "metadata": {},
   "outputs": [],
   "source": []
  }
 ],
 "metadata": {
  "kernelspec": {
   "display_name": "Python 3",
   "language": "python",
   "name": "python3"
  },
  "language_info": {
   "codemirror_mode": {
    "name": "ipython",
    "version": 3
   },
   "file_extension": ".py",
   "mimetype": "text/x-python",
   "name": "python",
   "nbconvert_exporter": "python",
   "pygments_lexer": "ipython3",
   "version": "3.7.4"
  }
 },
 "nbformat": 4,
 "nbformat_minor": 4
}
