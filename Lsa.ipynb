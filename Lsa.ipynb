{
 "cells": [
  {
   "cell_type": "markdown",
   "metadata": {},
   "source": [
    "# Three different ways to modify an entry in a string of characters. We only use Python and refrain from using Pandas."
   ]
  },
  {
   "cell_type": "markdown",
   "metadata": {},
   "source": [
    "# Method # 1 - Iterate through a 'hard' list "
   ]
  },
  {
   "cell_type": "code",
   "execution_count": 107,
   "metadata": {},
   "outputs": [
    {
     "name": "stdout",
     "output_type": "stream",
     "text": [
      "Current name value is:  Leesa\n",
      "Revised name value is:  ['Leesa loves Python!']\n"
     ]
    }
   ],
   "source": [
    "names = ['ere', 'tet', 'yey', 'yy', 'rtrt', 'rtr', 'trt', 'asgf', 'dfh', 'gsjg', 'Leesa',\n",
    "         'dsfsds', 'ewte', 'fj']\n",
    "\n",
    "count = 0 # initialize the counter with a zero value then increment for an index value\n",
    "replacement_value = ['Leesa loves Python!']\n",
    "\n",
    "print('Current name value is: ', names[10]) # use a slice to print only the revised value\n",
    "\n",
    "for name in names:\n",
    "    if name != 'Leesa':\n",
    "        count += 1\n",
    "    else:\n",
    "        if name == 'Leesa':\n",
    "            names[count] = replacement_value\n",
    "            print('Revised name value is: ', names[count])\n",
    "        break      "
   ]
  },
  {
   "cell_type": "markdown",
   "metadata": {},
   "source": [
    "# Method # 2 - Use str.replace() change the current character value to the new value."
   ]
  },
  {
   "cell_type": "code",
   "execution_count": 108,
   "metadata": {},
   "outputs": [
    {
     "name": "stdout",
     "output_type": "stream",
     "text": [
      "wewe erer tyt fgfg ghgh cvcv Leesa dfdf fghth 344 464 \n",
      "wewe erer tyt fgfg ghgh cvcv Leesa loves Python! dfdf fghth 344 464 \n"
     ]
    }
   ],
   "source": [
    "my_string = 'wewe erer tyt fgfg ghgh cvcv Leesa dfdf fghth 344 464 '\n",
    "print(my_string)\n",
    "\n",
    "my_string = my_string.replace('Leesa', 'Leesa loves Python!') \n",
    "print(my_string)"
   ]
  },
  {
   "cell_type": "markdown",
   "metadata": {},
   "source": [
    "# Method # 3 - Convert string to a list then iterate through the list and find-and-replace a value with another. Use str.split() to create a new list from a string of characters then loop through to find and replace as we did above."
   ]
  },
  {
   "cell_type": "code",
   "execution_count": 109,
   "metadata": {},
   "outputs": [
    {
     "name": "stdout",
     "output_type": "stream",
     "text": [
      "The un-revised string is:  ['rtrt', 'rtrt', 'rtt', 'fjf', 'fh', 'kjl', 'Leesa', 'sdg', '678696', 'sdfsd'] We will replace \"Leesa\"\n",
      "Revised string value is:  Leesa loves Python!\n"
     ]
    }
   ],
   "source": [
    "a_string = 'rtrt rtrt rtt fjf fh kjl Leesa sdg 678696 sdfsd' # hypothetical text to revise\n",
    "new_string = a_string.split(' ') # split the string at the space char and create a new list\n",
    "\n",
    "print('The un-revised string is: ', new_string, 'We will replace \"Leesa\"') # verify the previous string-state\n",
    "\n",
    "replace_char = 'Leesa loves Python!' # the revision we want to make to the string of text\n",
    "count2 = 0   # use a counter as an index into the character string we want to change\n",
    "\n",
    "for char in new_string: # iterate through the string to finf the entry we want to change\n",
    "    if char != 'Leesa': # I use non-parity in order to increment the counter for index value\n",
    "        count2 += 1 # increment the counter\n",
    "\n",
    "# this is where we make the change to the chracter string \n",
    "    else:\n",
    "        if char == 'Leesa': # evaluate to True in order to make the change to the string\n",
    "            new_string[count2] = replace_char # this is the new value to replace with           \n",
    "        print('Revised string value is: ', new_string[count2]) # verify the result\n",
    "               \n",
    "        \n",
    "        "
   ]
  },
  {
   "cell_type": "code",
   "execution_count": 110,
   "metadata": {},
   "outputs": [
    {
     "name": "stdout",
     "output_type": "stream",
     "text": [
      "Revised string value is:  ['rtrt', 'rtrt', 'rtt', 'fjf', 'fh', 'kjl', 'Leesa loves Python!', 'sdg', '678696', 'sdfsd']\n"
     ]
    }
   ],
   "source": [
    "print('Revised string value is: ', new_string) #verify that we have updated the new list"
   ]
  },
  {
   "cell_type": "markdown",
   "metadata": {},
   "source": [
    "# Opening a file in Python\n",
    "\n",
    "### https://docs.python.org/3/tutorial/inputoutput.html#reading-and-writing-files"
   ]
  },
  {
   "cell_type": "markdown",
   "metadata": {},
   "source": [
    "## This code opens and reads the file into a list so we can parse the row and column data.\n",
    "\n",
    "### You must download the \"read_this.csv\" file from the Github repository and re-path to your saved location for this to work properly: https://github.com/SeriousHyena/Lsa/blob/master/read_this.csv"
   ]
  },
  {
   "cell_type": "code",
   "execution_count": 41,
   "metadata": {},
   "outputs": [],
   "source": [
    "# import the reader function from the csv module\n",
    "from csv import reader\n",
    "\n",
    "# use the python built-in function open()\n",
    "# to open the read_this.csv file\n",
    "opened_file = open(r'C:\\Users\\emack\\Documents\\Lsa\\Lsa\\read_this.csv') # re-path to your locally-saved location\n",
    "\n",
    "# use csv.reader() to parse the data from\n",
    "# the opened file\n",
    "read_file = reader(opened_file)\n",
    "\n",
    "# use list() to convert the read file\n",
    "# into a list of lists format\n",
    "name_data = list(read_file)\n",
    "\n",
    "# remove the first row of the data, which\n",
    "# contains the column names\n",
    "name_data = name_data[1:] # don't read in the first row which is only the column names and not data"
   ]
  },
  {
   "cell_type": "markdown",
   "metadata": {},
   "source": [
    "# This iterates through the rows and columns "
   ]
  },
  {
   "cell_type": "code",
   "execution_count": 112,
   "metadata": {},
   "outputs": [
    {
     "name": "stdout",
     "output_type": "stream",
     "text": [
      "Ernest\n",
      "Mack\n",
      "59\n",
      "Jack\n",
      "Jones\n",
      "23\n",
      "Phil\n",
      "Phillips\n",
      "34\n"
     ]
    }
   ],
   "source": [
    "for row in name_data: # iterate through the data file\n",
    "    first = row[0] # assign the first_name column (index 0) to the 'first' variable\n",
    "    print(first) # print it out\n",
    "    \n",
    "    last = row[1] # assign the last_name column (index 1) to the last variable\n",
    "    print(last) # print it\n",
    "    \n",
    "    age = row[2] # we do the same thing for the age column at index 3\n",
    "    print(age)\n",
    "    \n",
    "    \n",
    "   "
   ]
  },
  {
   "cell_type": "markdown",
   "metadata": {},
   "source": [
    "# Date and time in Python\n",
    "\n",
    "### https://docs.python.org/3/tutorial/stdlib.html#dates-and-times"
   ]
  },
  {
   "cell_type": "code",
   "execution_count": 13,
   "metadata": {},
   "outputs": [
    {
     "data": {
      "text/plain": [
       "datetime.date(2019, 10, 14)"
      ]
     },
     "execution_count": 13,
     "metadata": {},
     "output_type": "execute_result"
    }
   ],
   "source": [
    "# dates are easily constructed and formatted\n",
    "from datetime import date\n",
    "now = date.today()\n",
    "now\n"
   ]
  },
  {
   "cell_type": "code",
   "execution_count": 36,
   "metadata": {},
   "outputs": [
    {
     "name": "stdout",
     "output_type": "stream",
     "text": [
      "I have been on earth for  21608 days.\n"
     ]
    }
   ],
   "source": [
    "import datetime # import the datetime library \n",
    "\n",
    "# dates support calendar arithmetic\n",
    "birthday = date(1960, 8, 16)\n",
    "age = now - birthday\n",
    "print('I have been on earth for ', age.days, 'days.')"
   ]
  },
  {
   "cell_type": "code",
   "execution_count": 37,
   "metadata": {},
   "outputs": [
    {
     "data": {
      "text/plain": [
       "'10-14-19. 14 Oct 2019 is a Monday on the 14 day of October.'"
      ]
     },
     "execution_count": 37,
     "metadata": {},
     "output_type": "execute_result"
    }
   ],
   "source": [
    "import datetime\n",
    "foo = datetime.date(2003, 12, 2)\n",
    "foo.strftime(\"%m-%d-%y. %d %b %Y is a %A on the %d day of %B.\") # date time formatter string\n",
    "\n",
    "now.strftime(\"%m-%d-%y. %d %b %Y is a %A on the %d day of %B.\") # date time formatter string\n"
   ]
  },
  {
   "cell_type": "code",
   "execution_count": 38,
   "metadata": {},
   "outputs": [
    {
     "data": {
      "text/plain": [
       "'Today is 10-14-19. 14 Oct 2019, Monday,the 14 day of October.'"
      ]
     },
     "execution_count": 38,
     "metadata": {},
     "output_type": "execute_result"
    }
   ],
   "source": [
    "import datetime\n",
    "\n",
    "now.strftime('Today is '\"%m-%d-%y. %d %b %Y, %A,the %d day of %B.\") # date time formatter string"
   ]
  },
  {
   "cell_type": "markdown",
   "metadata": {},
   "source": [
    "## Other ways to use the datetime object in Python"
   ]
  },
  {
   "cell_type": "code",
   "execution_count": 40,
   "metadata": {},
   "outputs": [
    {
     "name": "stdout",
     "output_type": "stream",
     "text": [
      "24/12/1984\n"
     ]
    }
   ],
   "source": [
    "dt_object = dt.datetime(1984, 12, 24)\n",
    "day = dt_object.day\n",
    "month = dt_object.month\n",
    "year = dt_object.year\n",
    "dt_string = \"{}/{}/{}\".format(day, month, year) # here we force the order of operation \n",
    "print(dt_string)"
   ]
  },
  {
   "cell_type": "code",
   "execution_count": null,
   "metadata": {},
   "outputs": [],
   "source": []
  }
 ],
 "metadata": {
  "kernelspec": {
   "display_name": "Python 3",
   "language": "python",
   "name": "python3"
  },
  "language_info": {
   "codemirror_mode": {
    "name": "ipython",
    "version": 3
   },
   "file_extension": ".py",
   "mimetype": "text/x-python",
   "name": "python",
   "nbconvert_exporter": "python",
   "pygments_lexer": "ipython3",
   "version": "3.7.4"
  }
 },
 "nbformat": 4,
 "nbformat_minor": 4
}
