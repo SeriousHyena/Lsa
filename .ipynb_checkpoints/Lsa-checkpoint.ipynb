{
 "cells": [
  {
   "cell_type": "markdown",
   "metadata": {},
   "source": [
    "# Three different ways to modify an entry in a string of characters. We only use Python and refrain from using Pandas."
   ]
  },
  {
   "cell_type": "markdown",
   "metadata": {},
   "source": [
    "# Method # 1 - Iterate through a 'hard' list "
   ]
  },
  {
   "cell_type": "code",
   "execution_count": 66,
   "metadata": {},
   "outputs": [
    {
     "name": "stdout",
     "output_type": "stream",
     "text": [
      "Current name value is:  Lisa\n",
      "Revised name value is:  ['Lisa loves Python!']\n"
     ]
    }
   ],
   "source": [
    "names = ['ere', 'tet', 'yey', 'yy', 'rtrt', 'rtr', 'trt', 'asgf', 'dfh', 'gsjg', 'Lisa',\n",
    "         'dsfsds', 'ewte', 'fj']\n",
    "\n",
    "count = 0 # initialize the counter with a zero value then increment for an index value\n",
    "replacement_value = ['Lisa loves Python!']\n",
    "\n",
    "print('Current name value is: ', names[10]) # use a slice to print only the revised value\n",
    "\n",
    "for name in names:\n",
    "    if name != 'Lisa':\n",
    "        count += 1\n",
    "    else:\n",
    "        if name == 'Lisa':\n",
    "            names[count] = replacement_value\n",
    "            print('Revised name value is: ', names[count])\n",
    "        break      "
   ]
  },
  {
   "cell_type": "markdown",
   "metadata": {},
   "source": [
    "# Method # 2 - Use str.replace() change the current character value to the new value."
   ]
  },
  {
   "cell_type": "code",
   "execution_count": 67,
   "metadata": {},
   "outputs": [
    {
     "name": "stdout",
     "output_type": "stream",
     "text": [
      "wewe erer tyt fgfg ghgh cvcv Lisa dfdf fghth 344 464 \n",
      "wewe erer tyt fgfg ghgh cvcv Lisa loves Python! dfdf fghth 344 464 \n"
     ]
    }
   ],
   "source": [
    "my_string = 'wewe erer tyt fgfg ghgh cvcv Lisa dfdf fghth 344 464 '\n",
    "print(my_string)\n",
    "\n",
    "my_string = my_string.replace('Lisa', 'Lisa loves Python!') \n",
    "print(my_string)"
   ]
  },
  {
   "cell_type": "markdown",
   "metadata": {},
   "source": [
    "# Method # 3 - Convert string to a list then iterate through the list and find-and-replace a value with another. Use str.split() to create a new list from a string of characters then loop through to find and replace as we did above."
   ]
  },
  {
   "cell_type": "code",
   "execution_count": 74,
   "metadata": {},
   "outputs": [
    {
     "name": "stdout",
     "output_type": "stream",
     "text": [
      "The un-revised string is:  ['rtrt', 'rtrt', 'rtt', 'fjf', 'fh', 'kjl', 'Lisa', 'sdg', '678696', 'sdfsd'] We will replace \"Lisa\"\n",
      "Revised string value is:  Lisa loves Python!\n"
     ]
    }
   ],
   "source": [
    "a_string = 'rtrt rtrt rtt fjf fh kjl Lisa sdg 678696 sdfsd' # hypothetical text to revise\n",
    "new_string = a_string.split(' ') # split the string at the space char and create a new list\n",
    "\n",
    "print('The un-revised string is: ', new_string, 'We will replace \"Lisa\"') # verify the previous string-state\n",
    "\n",
    "replace_char = 'Lisa loves Python!' # the revision we want to make to the string of text\n",
    "count2 = 0   # use a counter as an index into the character string we want to change\n",
    "\n",
    "for char in new_string: # iterate through the string to finf the entry we want to change\n",
    "    if char != 'Lisa': # I use non-parity in order to increment the counter for index value\n",
    "        count2 += 1 # increment the counter\n",
    "\n",
    "# this is where we make the change to the chracter string \n",
    "    else:\n",
    "        if char == 'Lisa': # evaluate to True in order to make the change to the string\n",
    "            new_string[count2] = replace_char # this is the new value to replace with           \n",
    "        print('Revised string value is: ', new_string[count2]) # verify the result\n",
    "               \n",
    "        \n",
    "        "
   ]
  },
  {
   "cell_type": "code",
   "execution_count": 72,
   "metadata": {},
   "outputs": [
    {
     "name": "stdout",
     "output_type": "stream",
     "text": [
      "Revised string value is:  ['rtrt', 'rtrt', 'rtt', 'fjf', 'fh', 'kjl', 'Lisa loves Python!', 'sdg', '678696', 'sdfsd']\n"
     ]
    }
   ],
   "source": [
    "print('Revised string value is: ', new_string) #verify that we have updated the new list"
   ]
  },
  {
   "cell_type": "code",
   "execution_count": null,
   "metadata": {},
   "outputs": [],
   "source": []
  }
 ],
 "metadata": {
  "kernelspec": {
   "display_name": "Python 3",
   "language": "python",
   "name": "python3"
  },
  "language_info": {
   "codemirror_mode": {
    "name": "ipython",
    "version": 3
   },
   "file_extension": ".py",
   "mimetype": "text/x-python",
   "name": "python",
   "nbconvert_exporter": "python",
   "pygments_lexer": "ipython3",
   "version": "3.7.3"
  }
 },
 "nbformat": 4,
 "nbformat_minor": 4
}
